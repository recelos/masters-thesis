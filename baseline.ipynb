{
 "cells": [
  {
   "cell_type": "markdown",
   "metadata": {},
   "source": [
    "# Baseline"
   ]
  },
  {
   "cell_type": "markdown",
   "metadata": {},
   "source": [
    "### Prepare data"
   ]
  },
  {
   "cell_type": "code",
   "execution_count": 6,
   "metadata": {
    "execution": {
     "iopub.execute_input": "2025-04-01T10:06:08.314549Z",
     "iopub.status.busy": "2025-04-01T10:06:08.314239Z",
     "iopub.status.idle": "2025-04-01T10:06:13.533076Z",
     "shell.execute_reply": "2025-04-01T10:06:13.532409Z",
     "shell.execute_reply.started": "2025-04-01T10:06:08.314529Z"
    },
    "trusted": true
   },
   "outputs": [],
   "source": [
    "from torchvision.datasets import ImageFolder\n",
    "import torchvision.transforms as transforms\n",
    "\n",
    "TRAIN_PATH = '/kaggle/input/melanoma-skin-cancer-dataset-of-10000-images/melanoma_cancer_dataset/train'\n",
    "TEST_PATH = '/kaggle/input/melanoma-skin-cancer-dataset-of-10000-images/melanoma_cancer_dataset/test'\n",
    "\n",
    "to_tensor = transforms.Compose([\n",
    "    transforms.CenterCrop(224),\n",
    "    transforms.ToTensor(),\n",
    "    transforms.Normalize(mean=[0.485, 0.456, 0.406], std=[0.229, 0.224, 0.225])])\n",
    "\n",
    "train_data = ImageFolder(root=TRAIN_PATH, transform = to_tensor)\n",
    "test_data = ImageFolder(root=TEST_PATH, transform = to_tensor)"
   ]
  },
  {
   "cell_type": "markdown",
   "metadata": {},
   "source": [
    "### Define the convolutional neural network model"
   ]
  },
  {
   "cell_type": "code",
   "execution_count": null,
   "metadata": {
    "execution": {
     "iopub.execute_input": "2025-04-01T10:06:13.534407Z",
     "iopub.status.busy": "2025-04-01T10:06:13.534176Z",
     "iopub.status.idle": "2025-04-01T10:06:13.541176Z",
     "shell.execute_reply": "2025-04-01T10:06:13.540373Z",
     "shell.execute_reply.started": "2025-04-01T10:06:13.534388Z"
    },
    "trusted": true
   },
   "outputs": [],
   "source": [
    "import torch\n",
    "import torch.nn as nn\n",
    "import torch.nn.functional as F\n",
    "\n",
    "class CNN(nn.Module):\n",
    "    def __init__(self):\n",
    "        super(CNN, self).__init__()\n",
    "        self.conv1 = nn.Conv2d(in_channels=3, out_channels=16, kernel_size=3, padding=1)\n",
    "        self.conv2 = nn.Conv2d(in_channels=16, out_channels=32, kernel_size=3, padding=1)\n",
    "        self.conv3 = nn.Conv2d(in_channels=32, out_channels=64, kernel_size=3, padding=1)\n",
    "        self.pool = nn.MaxPool2d(kernel_size=2, stride=2)\n",
    "        self.global_pool = nn.AdaptiveAvgPool2d((1, 1))\n",
    "        \n",
    "        self.fc1 = nn.Linear(64, 128)\n",
    "        self.fc2 = nn.Linear(128, 2)\n",
    "        self.dropout = nn.Dropout(0.5)\n",
    "        \n",
    "    def forward(self, x):\n",
    "        x = self.pool(F.relu(self.conv1(x)))\n",
    "        x = self.pool(F.relu(self.conv2(x)))\n",
    "        x = self.pool(F.relu(self.conv3(x)))\n",
    "        \n",
    "        x = self.global_pool(x)\n",
    "        x = torch.flatten(x, start_dim=1)\n",
    "        \n",
    "        x = F.relu(self.fc1(x))\n",
    "        x = self.dropout(x)\n",
    "        x = self.fc2(x)\n",
    "        return x\n",
    "\n",
    "    def get_conv_layers(self):\n",
    "        return [self.conv1, self.conv2, self.conv3]"
   ]
  },
  {
   "cell_type": "markdown",
   "metadata": {},
   "source": [
    "### Helper function for calculating accuriacies"
   ]
  },
  {
   "cell_type": "code",
   "execution_count": 8,
   "metadata": {
    "execution": {
     "iopub.execute_input": "2025-04-01T10:06:13.543022Z",
     "iopub.status.busy": "2025-04-01T10:06:13.542800Z",
     "iopub.status.idle": "2025-04-01T10:06:13.554858Z",
     "shell.execute_reply": "2025-04-01T10:06:13.554051Z",
     "shell.execute_reply.started": "2025-04-01T10:06:13.543004Z"
    },
    "trusted": true
   },
   "outputs": [],
   "source": [
    "from torch import no_grad, max\n",
    "\n",
    "def calculate_accuracy(loader, model, device):\n",
    "    model.eval()\n",
    "    with no_grad():\n",
    "        correct = 0\n",
    "        total = 0\n",
    "        for images, labels in loader:\n",
    "            images, labels = images.to(device), labels.to(device)\n",
    "            outputs = model(images)\n",
    "            _, predicted = max(outputs.data, 1)\n",
    "            total += labels.size(0)\n",
    "            correct += (predicted == labels).sum().item()\n",
    "    return 100 * correct / total"
   ]
  },
  {
   "cell_type": "markdown",
   "metadata": {},
   "source": [
    "### Training loop"
   ]
  },
  {
   "cell_type": "code",
   "execution_count": 9,
   "metadata": {
    "execution": {
     "iopub.execute_input": "2025-04-01T10:06:13.556222Z",
     "iopub.status.busy": "2025-04-01T10:06:13.556018Z",
     "iopub.status.idle": "2025-04-01T10:06:13.573254Z",
     "shell.execute_reply": "2025-04-01T10:06:13.572390Z",
     "shell.execute_reply.started": "2025-04-01T10:06:13.556205Z"
    },
    "trusted": true
   },
   "outputs": [
    {
     "name": "stdout",
     "output_type": "stream",
     "text": [
      "cuda\n"
     ]
    }
   ],
   "source": [
    "import torch\n",
    "import numpy as np\n",
    "from torch.cuda import is_available\n",
    "from torch.utils.data import DataLoader, Subset\n",
    "from torch.optim import Adam\n",
    "from torch.amp.grad_scaler import GradScaler\n",
    "from torch.amp import autocast\n",
    "from torch.nn import CrossEntropyLoss\n",
    "from sklearn.model_selection import KFold\n",
    "\n",
    "device = torch.device('cuda' if is_available() else 'cpu')\n",
    "\n",
    "print(device.type)\n",
    "\n",
    "def training_loop(model, training_data, num_of_epochs):\n",
    "    kf = KFold(n_splits=5, shuffle=True, random_state=0)\n",
    "\n",
    "    for train_index, val_index in kf.split(np.arange(len(train_data))):\n",
    "        train_loader = DataLoader(Subset(training_data, train_index), batch_size=32, shuffle=True)\n",
    "        val_loader = DataLoader(Subset(training_data, val_index), batch_size=32, shuffle=True)\n",
    "        \n",
    "        model = model.to(device)\n",
    "        criterion = CrossEntropyLoss()\n",
    "        optimizer = Adam(model.parameters(), lr=0.001)\n",
    "        scaler = GradScaler()\n",
    "\n",
    "        train_losses = []\n",
    "        val_accuracies = []\n",
    "\n",
    "        for epoch in range(num_of_epochs):\n",
    "            model.train()\n",
    "            running_loss = 0.0\n",
    "            for images, labels in train_loader:\n",
    "                images, labels = images.to(device), labels.to(device)\n",
    "                optimizer.zero_grad()\n",
    "                with autocast(device.type):\n",
    "                    outputs = model(images)\n",
    "                    loss = criterion(outputs, labels)\n",
    "\n",
    "                scaler.scale(loss).backward()\n",
    "                scaler.step(optimizer)\n",
    "                scaler.update()\n",
    "                running_loss += loss.item()\n",
    "\n",
    "            train_loss = running_loss / len(train_loader)\n",
    "            train_losses.append(train_loss)\n",
    "            val_accuracy = calculate_accuracy(val_loader, model, device)\n",
    "            val_accuracies.append(val_accuracy)\n",
    "            print(f'Epoch [{epoch+1}/{num_of_epochs}], Loss: {train_loss:.4f}, Validation Accuracy: {val_accuracy:.2f}%')"
   ]
  },
  {
   "cell_type": "markdown",
   "metadata": {},
   "source": [
    "### Run training"
   ]
  },
  {
   "cell_type": "code",
   "execution_count": 10,
   "metadata": {
    "execution": {
     "iopub.execute_input": "2025-04-01T10:06:13.574412Z",
     "iopub.status.busy": "2025-04-01T10:06:13.574148Z",
     "iopub.status.idle": "2025-04-01T11:09:22.076826Z",
     "shell.execute_reply": "2025-04-01T11:09:22.075950Z",
     "shell.execute_reply.started": "2025-04-01T10:06:13.574383Z"
    },
    "trusted": true
   },
   "outputs": [
    {
     "name": "stdout",
     "output_type": "stream",
     "text": [
      "Epoch [1/25], Loss: 0.7857, Validation Accuracy: 80.90%\n",
      "Epoch [2/25], Loss: 0.3903, Validation Accuracy: 85.22%\n",
      "Epoch [3/25], Loss: 0.3524, Validation Accuracy: 80.79%\n",
      "Epoch [4/25], Loss: 0.3542, Validation Accuracy: 84.70%\n",
      "Epoch [5/25], Loss: 0.3317, Validation Accuracy: 86.67%\n",
      "Epoch [6/25], Loss: 0.3583, Validation Accuracy: 85.27%\n",
      "Epoch [7/25], Loss: 0.3480, Validation Accuracy: 85.48%\n",
      "Epoch [8/25], Loss: 0.5921, Validation Accuracy: 85.01%\n",
      "Epoch [9/25], Loss: 0.3581, Validation Accuracy: 84.28%\n",
      "Epoch [10/25], Loss: 0.3478, Validation Accuracy: 83.71%\n",
      "Epoch [11/25], Loss: 0.3570, Validation Accuracy: 84.12%\n",
      "Epoch [12/25], Loss: 0.3389, Validation Accuracy: 86.78%\n",
      "Epoch [13/25], Loss: 0.3205, Validation Accuracy: 87.19%\n",
      "Epoch [14/25], Loss: 0.3214, Validation Accuracy: 85.79%\n",
      "Epoch [15/25], Loss: 0.3264, Validation Accuracy: 86.00%\n",
      "Epoch [16/25], Loss: 0.3107, Validation Accuracy: 86.57%\n",
      "Epoch [17/25], Loss: 0.3117, Validation Accuracy: 87.30%\n",
      "Epoch [18/25], Loss: 0.2911, Validation Accuracy: 87.25%\n",
      "Epoch [19/25], Loss: 0.3422, Validation Accuracy: 85.53%\n",
      "Epoch [20/25], Loss: 0.3413, Validation Accuracy: 85.27%\n",
      "Epoch [21/25], Loss: 0.3083, Validation Accuracy: 86.93%\n",
      "Epoch [22/25], Loss: 0.2914, Validation Accuracy: 87.45%\n",
      "Epoch [23/25], Loss: 0.2808, Validation Accuracy: 87.40%\n",
      "Epoch [24/25], Loss: 0.2749, Validation Accuracy: 86.31%\n",
      "Epoch [25/25], Loss: 0.2908, Validation Accuracy: 86.93%\n",
      "Epoch [1/25], Loss: 0.2893, Validation Accuracy: 88.65%\n",
      "Epoch [2/25], Loss: 0.2742, Validation Accuracy: 89.17%\n",
      "Epoch [3/25], Loss: 0.2722, Validation Accuracy: 89.74%\n",
      "Epoch [4/25], Loss: 0.2764, Validation Accuracy: 89.22%\n",
      "Epoch [5/25], Loss: 0.2649, Validation Accuracy: 88.70%\n",
      "Epoch [6/25], Loss: 0.2572, Validation Accuracy: 90.53%\n",
      "Epoch [7/25], Loss: 0.2522, Validation Accuracy: 89.38%\n",
      "Epoch [8/25], Loss: 0.2608, Validation Accuracy: 88.86%\n",
      "Epoch [9/25], Loss: 0.2831, Validation Accuracy: 89.64%\n",
      "Epoch [10/25], Loss: 0.2467, Validation Accuracy: 89.43%\n",
      "Epoch [11/25], Loss: 0.2282, Validation Accuracy: 90.21%\n",
      "Epoch [12/25], Loss: 0.2478, Validation Accuracy: 89.48%\n",
      "Epoch [13/25], Loss: 0.2246, Validation Accuracy: 89.59%\n",
      "Epoch [14/25], Loss: 0.2207, Validation Accuracy: 88.81%\n",
      "Epoch [15/25], Loss: 0.2070, Validation Accuracy: 89.85%\n",
      "Epoch [16/25], Loss: 0.2167, Validation Accuracy: 88.34%\n",
      "Epoch [17/25], Loss: 0.1955, Validation Accuracy: 88.13%\n",
      "Epoch [18/25], Loss: 0.1938, Validation Accuracy: 89.48%\n",
      "Epoch [19/25], Loss: 0.1999, Validation Accuracy: 88.91%\n",
      "Epoch [20/25], Loss: 0.1952, Validation Accuracy: 89.54%\n",
      "Epoch [21/25], Loss: 0.1728, Validation Accuracy: 88.65%\n",
      "Epoch [22/25], Loss: 0.1727, Validation Accuracy: 89.28%\n",
      "Epoch [23/25], Loss: 0.1711, Validation Accuracy: 88.08%\n",
      "Epoch [24/25], Loss: 0.1614, Validation Accuracy: 88.03%\n",
      "Epoch [25/25], Loss: 0.1890, Validation Accuracy: 85.01%\n",
      "Epoch [1/25], Loss: 0.2595, Validation Accuracy: 87.71%\n",
      "Epoch [2/25], Loss: 0.2470, Validation Accuracy: 93.18%\n",
      "Epoch [3/25], Loss: 0.2063, Validation Accuracy: 95.11%\n",
      "Epoch [4/25], Loss: 0.2067, Validation Accuracy: 91.31%\n",
      "Epoch [5/25], Loss: 0.1933, Validation Accuracy: 94.74%\n",
      "Epoch [6/25], Loss: 0.1782, Validation Accuracy: 94.95%\n",
      "Epoch [7/25], Loss: 0.1734, Validation Accuracy: 93.70%\n",
      "Epoch [8/25], Loss: 0.1528, Validation Accuracy: 90.73%\n",
      "Epoch [9/25], Loss: 0.1661, Validation Accuracy: 92.66%\n",
      "Epoch [10/25], Loss: 0.1575, Validation Accuracy: 92.66%\n",
      "Epoch [11/25], Loss: 0.1413, Validation Accuracy: 94.01%\n",
      "Epoch [12/25], Loss: 0.1467, Validation Accuracy: 91.67%\n",
      "Epoch [13/25], Loss: 0.1862, Validation Accuracy: 89.80%\n",
      "Epoch [14/25], Loss: 0.2315, Validation Accuracy: 92.24%\n",
      "Epoch [15/25], Loss: 0.1642, Validation Accuracy: 92.87%\n",
      "Epoch [16/25], Loss: 0.1359, Validation Accuracy: 93.86%\n",
      "Epoch [17/25], Loss: 0.1379, Validation Accuracy: 92.14%\n",
      "Epoch [18/25], Loss: 0.1486, Validation Accuracy: 91.93%\n",
      "Epoch [19/25], Loss: 0.1349, Validation Accuracy: 92.87%\n",
      "Epoch [20/25], Loss: 0.1203, Validation Accuracy: 91.41%\n",
      "Epoch [21/25], Loss: 0.1325, Validation Accuracy: 94.01%\n",
      "Epoch [22/25], Loss: 0.1170, Validation Accuracy: 93.39%\n",
      "Epoch [23/25], Loss: 0.1091, Validation Accuracy: 92.30%\n",
      "Epoch [24/25], Loss: 0.1133, Validation Accuracy: 92.71%\n",
      "Epoch [25/25], Loss: 0.1149, Validation Accuracy: 92.87%\n",
      "Epoch [1/25], Loss: 0.1712, Validation Accuracy: 97.61%\n",
      "Epoch [2/25], Loss: 0.1828, Validation Accuracy: 95.42%\n",
      "Epoch [3/25], Loss: 0.2030, Validation Accuracy: 97.14%\n",
      "Epoch [4/25], Loss: 0.1452, Validation Accuracy: 96.93%\n",
      "Epoch [5/25], Loss: 0.1553, Validation Accuracy: 97.24%\n",
      "Epoch [6/25], Loss: 0.1249, Validation Accuracy: 95.58%\n",
      "Epoch [7/25], Loss: 0.1189, Validation Accuracy: 94.74%\n",
      "Epoch [8/25], Loss: 0.1178, Validation Accuracy: 97.92%\n",
      "Epoch [9/25], Loss: 0.1462, Validation Accuracy: 97.40%\n",
      "Epoch [10/25], Loss: 0.2514, Validation Accuracy: 97.71%\n",
      "Epoch [11/25], Loss: 0.1006, Validation Accuracy: 97.71%\n",
      "Epoch [12/25], Loss: 0.1211, Validation Accuracy: 96.46%\n",
      "Epoch [13/25], Loss: 0.1165, Validation Accuracy: 95.73%\n",
      "Epoch [14/25], Loss: 0.1173, Validation Accuracy: 96.88%\n",
      "Epoch [15/25], Loss: 0.1020, Validation Accuracy: 95.37%\n",
      "Epoch [16/25], Loss: 0.0933, Validation Accuracy: 97.66%\n",
      "Epoch [17/25], Loss: 0.0869, Validation Accuracy: 97.81%\n",
      "Epoch [18/25], Loss: 0.0911, Validation Accuracy: 96.98%\n",
      "Epoch [19/25], Loss: 0.1035, Validation Accuracy: 96.25%\n",
      "Epoch [20/25], Loss: 0.1270, Validation Accuracy: 95.89%\n",
      "Epoch [21/25], Loss: 0.0963, Validation Accuracy: 96.67%\n",
      "Epoch [22/25], Loss: 0.1144, Validation Accuracy: 93.91%\n",
      "Epoch [23/25], Loss: 0.1043, Validation Accuracy: 97.19%\n",
      "Epoch [24/25], Loss: 0.1029, Validation Accuracy: 93.60%\n",
      "Epoch [25/25], Loss: 0.1192, Validation Accuracy: 95.16%\n",
      "Epoch [1/25], Loss: 0.1476, Validation Accuracy: 98.75%\n",
      "Epoch [2/25], Loss: 0.1674, Validation Accuracy: 98.85%\n",
      "Epoch [3/25], Loss: 0.2337, Validation Accuracy: 90.58%\n",
      "Epoch [4/25], Loss: 0.1908, Validation Accuracy: 96.25%\n",
      "Epoch [5/25], Loss: 0.1736, Validation Accuracy: 84.80%\n",
      "Epoch [6/25], Loss: 0.1964, Validation Accuracy: 95.94%\n",
      "Epoch [7/25], Loss: 0.1347, Validation Accuracy: 97.87%\n",
      "Epoch [8/25], Loss: 0.1159, Validation Accuracy: 95.78%\n",
      "Epoch [9/25], Loss: 0.3758, Validation Accuracy: 94.07%\n",
      "Epoch [10/25], Loss: 0.1154, Validation Accuracy: 97.71%\n",
      "Epoch [11/25], Loss: 0.0892, Validation Accuracy: 97.81%\n",
      "Epoch [12/25], Loss: 0.0870, Validation Accuracy: 98.65%\n",
      "Epoch [13/25], Loss: 0.0788, Validation Accuracy: 98.65%\n",
      "Epoch [14/25], Loss: 0.0844, Validation Accuracy: 96.77%\n",
      "Epoch [15/25], Loss: 0.0883, Validation Accuracy: 95.42%\n",
      "Epoch [16/25], Loss: 0.2847, Validation Accuracy: 78.97%\n",
      "Epoch [17/25], Loss: 0.2866, Validation Accuracy: 91.25%\n",
      "Epoch [18/25], Loss: 0.1546, Validation Accuracy: 95.52%\n",
      "Epoch [19/25], Loss: 0.1101, Validation Accuracy: 96.25%\n",
      "Epoch [20/25], Loss: 0.1048, Validation Accuracy: 95.42%\n",
      "Epoch [21/25], Loss: 0.0690, Validation Accuracy: 97.87%\n",
      "Epoch [22/25], Loss: 0.0805, Validation Accuracy: 95.78%\n",
      "Epoch [23/25], Loss: 0.0757, Validation Accuracy: 97.24%\n",
      "Epoch [24/25], Loss: 0.0791, Validation Accuracy: 98.33%\n",
      "Epoch [25/25], Loss: 0.0808, Validation Accuracy: 92.35%\n"
     ]
    }
   ],
   "source": [
    "from torchvision.models.alexnet import AlexNet\n",
    "cnn = AlexNet()\n",
    "training_loop(cnn, train_data, 25)"
   ]
  },
  {
   "cell_type": "markdown",
   "metadata": {},
   "source": [
    "### Helper method to calculate metrics"
   ]
  },
  {
   "cell_type": "code",
   "execution_count": 11,
   "metadata": {
    "execution": {
     "iopub.execute_input": "2025-04-01T11:09:22.078153Z",
     "iopub.status.busy": "2025-04-01T11:09:22.077835Z",
     "iopub.status.idle": "2025-04-01T11:09:22.083780Z",
     "shell.execute_reply": "2025-04-01T11:09:22.083086Z",
     "shell.execute_reply.started": "2025-04-01T11:09:22.078123Z"
    },
    "trusted": true
   },
   "outputs": [],
   "source": [
    "from sklearn.metrics import precision_score, recall_score, f1_score\n",
    "\n",
    "def calculate_metrics(loader, model, device):\n",
    "    model.eval()\n",
    "    all_labels = []\n",
    "    all_predictions = []\n",
    "\n",
    "    with torch.no_grad():\n",
    "        correct = 0\n",
    "        total = 0\n",
    "        for images, labels in loader:\n",
    "            images, labels = images.to(device), labels.to(device)\n",
    "            outputs = model(images)\n",
    "            _, predicted = torch.max(outputs.data, 1)\n",
    "            total += labels.size(0)\n",
    "            correct += (predicted == labels).sum().item()\n",
    "\n",
    "            all_labels.extend(labels.cpu().numpy())\n",
    "            all_predictions.extend(predicted.cpu().numpy())\n",
    "\n",
    "    accuracy = 100 * correct / total\n",
    "    precision = precision_score(all_labels, all_predictions, average='weighted')\n",
    "    recall = recall_score(all_labels, all_predictions, average='weighted')\n",
    "    f1 = f1_score(all_labels, all_predictions, average='weighted')\n",
    "\n",
    "    return accuracy, precision, recall, f1, all_labels, all_predictions"
   ]
  },
  {
   "cell_type": "markdown",
   "metadata": {},
   "source": [
    "### Run against test dataset"
   ]
  },
  {
   "cell_type": "code",
   "execution_count": 12,
   "metadata": {
    "execution": {
     "iopub.execute_input": "2025-04-01T11:09:22.084762Z",
     "iopub.status.busy": "2025-04-01T11:09:22.084526Z",
     "iopub.status.idle": "2025-04-01T11:09:31.806522Z",
     "shell.execute_reply": "2025-04-01T11:09:31.805869Z",
     "shell.execute_reply.started": "2025-04-01T11:09:22.084743Z"
    },
    "trusted": true
   },
   "outputs": [
    {
     "name": "stdout",
     "output_type": "stream",
     "text": [
      "Test accuracy: 87.2000%\n",
      "Test precision: 0.8723\n",
      "Test recall: 0.8720\n",
      "Test F1-Score: 0.8720\n"
     ]
    }
   ],
   "source": [
    "test_loader = DataLoader(test_data, batch_size=32, shuffle=False)\n",
    "\n",
    "accuracy, precision, recall, f1, all_labels, all_predictions = calculate_metrics(test_loader, cnn, device)\n",
    "\n",
    "print(f'Test accuracy: {accuracy:.4f}%')\n",
    "print(f'Test precision: {precision:.4f}')\n",
    "print(f'Test recall: {recall:.4f}')\n",
    "print(f'Test F1-Score: {f1:.4f}')"
   ]
  },
  {
   "cell_type": "markdown",
   "metadata": {},
   "source": [
    "### Augment data"
   ]
  },
  {
   "cell_type": "code",
   "execution_count": 13,
   "metadata": {
    "execution": {
     "iopub.execute_input": "2025-04-01T11:09:31.807820Z",
     "iopub.status.busy": "2025-04-01T11:09:31.807431Z",
     "iopub.status.idle": "2025-04-01T11:09:31.862896Z",
     "shell.execute_reply": "2025-04-01T11:09:31.862088Z",
     "shell.execute_reply.started": "2025-04-01T11:09:31.807784Z"
    },
    "trusted": true
   },
   "outputs": [],
   "source": [
    "train_transforms = transforms.Compose([\n",
    "    transforms.RandomResizedCrop(90),\n",
    "    transforms.RandomRotation(20),\n",
    "    transforms.RandomHorizontalFlip(),\n",
    "    transforms.ToTensor(),\n",
    "    transforms.Normalize(mean=[0.485, 0.456, 0.406], std=[0.229, 0.224, 0.225])\n",
    "])\n",
    "\n",
    "augmented_train_data = ImageFolder(root=TRAIN_PATH, transform=train_transforms)\n"
   ]
  },
  {
   "cell_type": "markdown",
   "metadata": {},
   "source": [
    "### Train on augmented data and validate on test dataset"
   ]
  },
  {
   "cell_type": "code",
   "execution_count": 15,
   "metadata": {
    "execution": {
     "iopub.execute_input": "2025-04-01T11:11:05.489682Z",
     "iopub.status.busy": "2025-04-01T11:11:05.489305Z",
     "iopub.status.idle": "2025-04-01T12:15:23.960275Z",
     "shell.execute_reply": "2025-04-01T12:15:23.959221Z",
     "shell.execute_reply.started": "2025-04-01T11:11:05.489646Z"
    },
    "trusted": true
   },
   "outputs": [
    {
     "name": "stdout",
     "output_type": "stream",
     "text": [
      "Epoch [1/25], Loss: 1.2420, Validation Accuracy: 72.41%\n",
      "Epoch [2/25], Loss: 0.4332, Validation Accuracy: 79.70%\n",
      "Epoch [3/25], Loss: 0.4231, Validation Accuracy: 83.81%\n",
      "Epoch [4/25], Loss: 0.4331, Validation Accuracy: 83.91%\n",
      "Epoch [5/25], Loss: 0.3723, Validation Accuracy: 84.90%\n",
      "Epoch [6/25], Loss: 0.3809, Validation Accuracy: 84.12%\n",
      "Epoch [7/25], Loss: 0.3579, Validation Accuracy: 82.87%\n",
      "Epoch [8/25], Loss: 0.3589, Validation Accuracy: 84.75%\n",
      "Epoch [9/25], Loss: 0.3570, Validation Accuracy: 86.15%\n",
      "Epoch [10/25], Loss: 0.3786, Validation Accuracy: 84.12%\n",
      "Epoch [11/25], Loss: 0.3587, Validation Accuracy: 85.89%\n",
      "Epoch [12/25], Loss: 0.3487, Validation Accuracy: 86.88%\n",
      "Epoch [13/25], Loss: 0.3352, Validation Accuracy: 86.00%\n",
      "Epoch [14/25], Loss: 0.3928, Validation Accuracy: 84.17%\n",
      "Epoch [15/25], Loss: 0.3612, Validation Accuracy: 86.73%\n",
      "Epoch [16/25], Loss: 0.3963, Validation Accuracy: 80.53%\n",
      "Epoch [17/25], Loss: 0.3726, Validation Accuracy: 84.38%\n",
      "Epoch [18/25], Loss: 0.3406, Validation Accuracy: 86.57%\n",
      "Epoch [19/25], Loss: 0.3292, Validation Accuracy: 86.41%\n",
      "Epoch [20/25], Loss: 0.3229, Validation Accuracy: 85.89%\n",
      "Epoch [21/25], Loss: 0.3244, Validation Accuracy: 87.25%\n",
      "Epoch [22/25], Loss: 0.3216, Validation Accuracy: 85.79%\n",
      "Epoch [23/25], Loss: 0.3316, Validation Accuracy: 86.10%\n",
      "Epoch [24/25], Loss: 0.3569, Validation Accuracy: 86.00%\n",
      "Epoch [25/25], Loss: 0.3354, Validation Accuracy: 86.41%\n",
      "Epoch [1/25], Loss: 0.3483, Validation Accuracy: 87.30%\n",
      "Epoch [2/25], Loss: 0.3675, Validation Accuracy: 83.24%\n",
      "Epoch [3/25], Loss: 0.3230, Validation Accuracy: 86.99%\n",
      "Epoch [4/25], Loss: 0.3701, Validation Accuracy: 80.53%\n",
      "Epoch [5/25], Loss: 0.3305, Validation Accuracy: 86.88%\n",
      "Epoch [6/25], Loss: 0.3168, Validation Accuracy: 84.54%\n",
      "Epoch [7/25], Loss: 0.3909, Validation Accuracy: 85.42%\n",
      "Epoch [8/25], Loss: 0.3568, Validation Accuracy: 86.36%\n",
      "Epoch [9/25], Loss: 0.3677, Validation Accuracy: 87.35%\n",
      "Epoch [10/25], Loss: 0.3340, Validation Accuracy: 87.98%\n",
      "Epoch [11/25], Loss: 0.3203, Validation Accuracy: 86.36%\n",
      "Epoch [12/25], Loss: 0.3223, Validation Accuracy: 86.73%\n",
      "Epoch [13/25], Loss: 0.3631, Validation Accuracy: 81.57%\n",
      "Epoch [14/25], Loss: 0.4267, Validation Accuracy: 86.57%\n",
      "Epoch [15/25], Loss: 0.3825, Validation Accuracy: 79.13%\n",
      "Epoch [16/25], Loss: 0.3399, Validation Accuracy: 87.09%\n",
      "Epoch [17/25], Loss: 0.3341, Validation Accuracy: 84.70%\n",
      "Epoch [18/25], Loss: 0.3237, Validation Accuracy: 84.96%\n",
      "Epoch [19/25], Loss: 0.3196, Validation Accuracy: 86.47%\n",
      "Epoch [20/25], Loss: 0.3193, Validation Accuracy: 83.91%\n",
      "Epoch [21/25], Loss: 0.3309, Validation Accuracy: 86.62%\n",
      "Epoch [22/25], Loss: 0.3128, Validation Accuracy: 86.47%\n",
      "Epoch [23/25], Loss: 0.3138, Validation Accuracy: 87.25%\n",
      "Epoch [24/25], Loss: 0.4146, Validation Accuracy: 75.69%\n",
      "Epoch [25/25], Loss: 0.4759, Validation Accuracy: 55.49%\n",
      "Epoch [1/25], Loss: 0.3699, Validation Accuracy: 85.89%\n",
      "Epoch [2/25], Loss: 0.3412, Validation Accuracy: 86.88%\n",
      "Epoch [3/25], Loss: 0.3352, Validation Accuracy: 88.18%\n",
      "Epoch [4/25], Loss: 0.3633, Validation Accuracy: 86.83%\n",
      "Epoch [5/25], Loss: 0.3126, Validation Accuracy: 87.71%\n",
      "Epoch [6/25], Loss: 0.3194, Validation Accuracy: 86.36%\n",
      "Epoch [7/25], Loss: 0.3142, Validation Accuracy: 87.56%\n",
      "Epoch [8/25], Loss: 0.3463, Validation Accuracy: 86.78%\n",
      "Epoch [9/25], Loss: 0.3397, Validation Accuracy: 86.57%\n",
      "Epoch [10/25], Loss: 0.4364, Validation Accuracy: 85.53%\n",
      "Epoch [11/25], Loss: 0.3488, Validation Accuracy: 86.88%\n",
      "Epoch [12/25], Loss: 0.3321, Validation Accuracy: 83.08%\n",
      "Epoch [13/25], Loss: 0.3239, Validation Accuracy: 86.26%\n",
      "Epoch [14/25], Loss: 0.3207, Validation Accuracy: 87.98%\n",
      "Epoch [15/25], Loss: 0.3142, Validation Accuracy: 86.62%\n",
      "Epoch [16/25], Loss: 0.3247, Validation Accuracy: 87.45%\n",
      "Epoch [17/25], Loss: 0.3021, Validation Accuracy: 87.45%\n",
      "Epoch [18/25], Loss: 0.3048, Validation Accuracy: 84.90%\n",
      "Epoch [19/25], Loss: 0.3049, Validation Accuracy: 87.71%\n",
      "Epoch [20/25], Loss: 0.3057, Validation Accuracy: 86.99%\n",
      "Epoch [21/25], Loss: 0.3022, Validation Accuracy: 83.45%\n",
      "Epoch [22/25], Loss: 0.2973, Validation Accuracy: 86.83%\n",
      "Epoch [23/25], Loss: 0.3653, Validation Accuracy: 87.09%\n",
      "Epoch [24/25], Loss: 0.3620, Validation Accuracy: 86.36%\n",
      "Epoch [25/25], Loss: 0.3260, Validation Accuracy: 87.14%\n",
      "Epoch [1/25], Loss: 0.3690, Validation Accuracy: 84.38%\n",
      "Epoch [2/25], Loss: 0.3475, Validation Accuracy: 88.13%\n",
      "Epoch [3/25], Loss: 0.3927, Validation Accuracy: 88.18%\n",
      "Epoch [4/25], Loss: 0.3297, Validation Accuracy: 85.58%\n",
      "Epoch [5/25], Loss: 0.3273, Validation Accuracy: 88.29%\n",
      "Epoch [6/25], Loss: 0.3121, Validation Accuracy: 88.65%\n",
      "Epoch [7/25], Loss: 0.3181, Validation Accuracy: 87.98%\n",
      "Epoch [8/25], Loss: 0.3233, Validation Accuracy: 85.74%\n",
      "Epoch [9/25], Loss: 0.3039, Validation Accuracy: 87.51%\n",
      "Epoch [10/25], Loss: 0.3320, Validation Accuracy: 85.74%\n",
      "Epoch [11/25], Loss: 0.3104, Validation Accuracy: 89.07%\n",
      "Epoch [12/25], Loss: 0.3049, Validation Accuracy: 86.78%\n",
      "Epoch [13/25], Loss: 0.3199, Validation Accuracy: 88.13%\n",
      "Epoch [14/25], Loss: 0.3046, Validation Accuracy: 86.67%\n",
      "Epoch [15/25], Loss: 0.2994, Validation Accuracy: 88.96%\n",
      "Epoch [16/25], Loss: 0.3364, Validation Accuracy: 88.60%\n",
      "Epoch [17/25], Loss: 0.3163, Validation Accuracy: 82.82%\n",
      "Epoch [18/25], Loss: 0.3145, Validation Accuracy: 86.21%\n",
      "Epoch [19/25], Loss: 0.3239, Validation Accuracy: 87.19%\n",
      "Epoch [20/25], Loss: 0.3110, Validation Accuracy: 88.60%\n",
      "Epoch [21/25], Loss: 0.3041, Validation Accuracy: 86.93%\n",
      "Epoch [22/25], Loss: 0.3095, Validation Accuracy: 88.03%\n",
      "Epoch [23/25], Loss: 0.3188, Validation Accuracy: 80.90%\n",
      "Epoch [24/25], Loss: 0.4085, Validation Accuracy: 88.18%\n",
      "Epoch [25/25], Loss: 0.3166, Validation Accuracy: 87.04%\n",
      "Epoch [1/25], Loss: 0.4194, Validation Accuracy: 84.75%\n",
      "Epoch [2/25], Loss: 0.3021, Validation Accuracy: 87.40%\n",
      "Epoch [3/25], Loss: 0.4193, Validation Accuracy: 82.14%\n",
      "Epoch [4/25], Loss: 0.3069, Validation Accuracy: 86.31%\n",
      "Epoch [5/25], Loss: 0.3111, Validation Accuracy: 86.36%\n",
      "Epoch [6/25], Loss: 0.2956, Validation Accuracy: 83.03%\n",
      "Epoch [7/25], Loss: 0.2958, Validation Accuracy: 86.41%\n",
      "Epoch [8/25], Loss: 0.3107, Validation Accuracy: 86.26%\n",
      "Epoch [9/25], Loss: 1.1232, Validation Accuracy: 77.82%\n",
      "Epoch [10/25], Loss: 0.6041, Validation Accuracy: 82.20%\n",
      "Epoch [11/25], Loss: 0.3670, Validation Accuracy: 85.22%\n",
      "Epoch [12/25], Loss: 0.3650, Validation Accuracy: 82.30%\n",
      "Epoch [13/25], Loss: 0.3675, Validation Accuracy: 83.97%\n",
      "Epoch [14/25], Loss: 0.3687, Validation Accuracy: 84.75%\n",
      "Epoch [15/25], Loss: 0.3391, Validation Accuracy: 82.30%\n",
      "Epoch [16/25], Loss: 0.3378, Validation Accuracy: 81.05%\n",
      "Epoch [17/25], Loss: 0.3184, Validation Accuracy: 73.71%\n",
      "Epoch [18/25], Loss: 0.3309, Validation Accuracy: 75.59%\n",
      "Epoch [19/25], Loss: 0.3318, Validation Accuracy: 81.26%\n",
      "Epoch [20/25], Loss: 0.3232, Validation Accuracy: 86.62%\n",
      "Epoch [21/25], Loss: 0.3194, Validation Accuracy: 83.24%\n",
      "Epoch [22/25], Loss: 0.3222, Validation Accuracy: 84.02%\n",
      "Epoch [23/25], Loss: 0.3138, Validation Accuracy: 86.36%\n",
      "Epoch [24/25], Loss: 0.3250, Validation Accuracy: 79.18%\n",
      "Epoch [25/25], Loss: 0.3241, Validation Accuracy: 87.30%\n",
      "Test accuracy: 50.0000%\n",
      "Test precision: 0.2500\n",
      "Test recall: 0.5000\n",
      "Test F1-Score: 0.3333\n"
     ]
    },
    {
     "name": "stderr",
     "output_type": "stream",
     "text": [
      "/usr/local/lib/python3.10/dist-packages/sklearn/metrics/_classification.py:1344: UndefinedMetricWarning: Precision is ill-defined and being set to 0.0 in labels with no predicted samples. Use `zero_division` parameter to control this behavior.\n",
      "  _warn_prf(average, modifier, msg_start, len(result))\n"
     ]
    }
   ],
   "source": [
    "augmented_cnn = AlexNet()\n",
    "training_loop(augmented_cnn, augmented_train_data, 25)\n",
    "\n",
    "accuracy, precision, recall, f1, all_labels, all_predictions = calculate_metrics(test_loader, augmented_cnn, device)\n",
    "\n",
    "print(f'Test accuracy: {accuracy:.4f}%')\n",
    "print(f'Test precision: {precision:.4f}')\n",
    "print(f'Test recall: {recall:.4f}')\n",
    "print(f'Test F1-Score: {f1:.4f}')"
   ]
  }
 ],
 "metadata": {
  "kaggle": {
   "accelerator": "nvidiaTeslaT4",
   "dataSources": [
    {
     "datasetId": 2035877,
     "sourceId": 3376422,
     "sourceType": "datasetVersion"
    }
   ],
   "dockerImageVersionId": 30919,
   "isGpuEnabled": true,
   "isInternetEnabled": true,
   "language": "python",
   "sourceType": "notebook"
  },
  "kernelspec": {
   "display_name": "Python 3",
   "language": "python",
   "name": "python3"
  },
  "language_info": {
   "codemirror_mode": {
    "name": "ipython",
    "version": 3
   },
   "file_extension": ".py",
   "mimetype": "text/x-python",
   "name": "python",
   "nbconvert_exporter": "python",
   "pygments_lexer": "ipython3",
   "version": "3.10.12"
  }
 },
 "nbformat": 4,
 "nbformat_minor": 4
}
